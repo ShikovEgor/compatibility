{
 "cells": [
  {
   "cell_type": "code",
   "execution_count": 4,
   "metadata": {},
   "outputs": [],
   "source": [
    "import torch\n",
    "\n",
    "torch.manual_seed(0)\n",
    "torch.backends.cudnn.deterministic = True\n",
    "torch.backends.cudnn.benchmark = False\n",
    "\n",
    "from src.service import CompatModel\n",
    "\n",
    "\n",
    "from types import SimpleNamespace\n",
    "import os\n",
    "path = \"/home/eshikov/work/avatar/compatibility/LASER\"\n",
    "\n",
    "os.environ[\"LASER\"] = path\n",
    "from LASER.source.embed import EncodeLoad\n",
    "from LASER.source.lib.text_processing import TokenLine\n",
    "import fastBPE\n",
    "import numpy as np"
   ]
  },
  {
   "cell_type": "code",
   "execution_count": 5,
   "metadata": {},
   "outputs": [],
   "source": [
    "\n",
    "model_dir=path + \"/models\"\n",
    "encoder=model_dir+\"/bilstm.93langs.2018-12-26.pt\"\n",
    "bpe_codes=model_dir+\"/93langs.fcodes\"\n",
    "args = SimpleNamespace(encoder=encoder,buffer_size=10000,\n",
    "                       max_sentences=None,max_tokens=12000,cpu=True,verbose=True)"
   ]
  },
  {
   "cell_type": "code",
   "execution_count": 9,
   "metadata": {},
   "outputs": [
    {
     "name": "stdout",
     "output_type": "stream",
     "text": [
      " - loading encoder /home/eshikov/work/avatar/compatibility/LASER/models/bilstm.93langs.2018-12-26.pt\n"
     ]
    }
   ],
   "source": [
    "enc = EncodeLoad(args)\n",
    "bpe = fastBPE.fastBPE(model_dir + \"/93langs.fcodes\", model_dir + \"/93langs.fvocab\")\n"
   ]
  },
  {
   "cell_type": "code",
   "execution_count": 10,
   "metadata": {},
   "outputs": [],
   "source": [
    "s1 = [\"One of the main sources of wind information is \\\n",
    "reanalysis data on wind speed at the height of 10 m above the surface which can be used without previous correction for wave calculation not in all sea areas\"]\n",
    "s2 = [\"Early detection of disease risks and accurate appointment of diagnostic procedures makes a significant contribution to value-based medicine\"]\n",
    "\n",
    "\n",
    "s1_ru = [\"Одним из основных источников информации о ветре являются данные повторного анализа скорости ветра на \\\n",
    " высоте 10 м над поверхностью, которые можно использовать без предварительной корректировки для расчета волн не во всех морских районах\"]\n",
    "s2_ru = [\"Раннее выявление риска заболеваний и точное назначение диагностических процедур вносит значительный вклад в ценностную медицину\"]\n"
   ]
  },
  {
   "cell_type": "code",
   "execution_count": 11,
   "metadata": {},
   "outputs": [],
   "source": [
    "v1 = enc.encode_sentences(bpe.apply(s1))\n",
    "v2 = enc.encode_sentences(bpe.apply(s2))\n",
    "v1_ru = enc.encode_sentences(bpe.apply(s1_ru))\n",
    "v2_ru = enc.encode_sentences(bpe.apply(s2_ru))"
   ]
  },
  {
   "cell_type": "code",
   "execution_count": 12,
   "metadata": {},
   "outputs": [
    {
     "data": {
      "text/plain": [
       "0.3632982"
      ]
     },
     "execution_count": 12,
     "metadata": {},
     "output_type": "execute_result"
    }
   ],
   "source": [
    "np.dot(np.ravel(v1),np.ravel(v2))"
   ]
  },
  {
   "cell_type": "code",
   "execution_count": null,
   "metadata": {},
   "outputs": [],
   "source": [
    "np.dot(np.ravel(v1),np.ravel(v1_ru))"
   ]
  },
  {
   "cell_type": "code",
   "execution_count": null,
   "metadata": {},
   "outputs": [],
   "source": [
    "np.dot(np.ravel(v2),np.ravel(v2_ru))"
   ]
  },
  {
   "cell_type": "code",
   "execution_count": null,
   "metadata": {},
   "outputs": [],
   "source": [
    "np.dot(np.ravel(v1_ru),np.ravel(v2_ru))"
   ]
  },
  {
   "cell_type": "code",
   "execution_count": null,
   "metadata": {},
   "outputs": [],
   "source": []
  },
  {
   "cell_type": "code",
   "execution_count": null,
   "metadata": {},
   "outputs": [],
   "source": []
  },
  {
   "cell_type": "code",
   "execution_count": null,
   "metadata": {},
   "outputs": [],
   "source": [
    "\n",
    "def EncodeFilep(encoder, inp_file, out_file, buffer_size=10000, verbose=False):\n",
    "    n = 0\n",
    "    t = time.time()\n",
    "    for sentences in buffered_read(inp_file, buffer_size):\n",
    "        encoder.encode_sentences(sentences).tofile(out_file)\n",
    "\n",
    "\n",
    "\n",
    "def EncodeFile(encoder, inp_fname, out_fname,\n",
    "               buffer_size=10000, verbose=False, over_write=False,\n",
    "               inp_encoding='utf-8'):\n",
    "    # TODO :handle over write\n",
    "    if not os.path.isfile(out_fname):\n",
    "        if verbose:\n",
    "            print(' - Encoder: {} to {}'.\n",
    "                  format(os.path.basename(inp_fname) if len(inp_fname) > 0 else 'stdin',\n",
    "                         os.path.basename(out_fname)))\n",
    "        fin = open(inp_fname, 'r', encoding=inp_encoding, errors='surrogateescape') if len(inp_fname) > 0 else sys.stdin\n",
    "        fout = open(out_fname, mode='wb')\n",
    "        EncodeFilep(encoder, fin, fout, buffer_size=buffer_size, verbose=verbose)\n",
    "\n"
   ]
  },
  {
   "cell_type": "code",
   "execution_count": null,
   "metadata": {},
   "outputs": [],
   "source": [
    "parser = argparse.ArgumentParser(description='LASER: Embed sentences')\n",
    "    parser.add_argument('--encoder', type=str, required=True,\n",
    "                        help='encoder to be used')\n",
    "    parser.add_argument('--token-lang', type=str, default='--',\n",
    "                        help=\"Perform tokenization with given language ('--' for no tokenization)\")\n",
    "    parser.add_argument('--bpe-codes', type=str, default=None,\n",
    "                        help='Apply BPE using specified codes')\n",
    "    parser.add_argument('-v', '--verbose', action='store_true',\n",
    "                        help='Detailed output')\n",
    "\n",
    "    parser.add_argument('-o', '--output', required=True,\n",
    "                        help='Output sentence embeddings')\n",
    "    parser.add_argument('--buffer-size', type=int, default=10000,\n",
    "                        help='Buffer size (sentences)')\n",
    "    parser.add_argument('--max-tokens', type=int, default=12000,\n",
    "                        help='Maximum number of tokens to process in a batch')\n",
    "    parser.add_argument('--max-sentences', type=int, default=None,\n",
    "                        help='Maximum number of sentences to process in a batch')\n",
    "    parser.add_argument('--cpu', action='store_true',\n",
    "                        help='Use CPU instead of GPU')\n",
    "    parser.add_argument('--stable', action='store_true',\n",
    "                        help='Use stable merge sort instead of quick sort')\n",
    "    args = parser.parse_args()\n",
    "\n",
    "\n",
    "    if args.verbose:\n",
    "        print(' - Encoder: loading {}'.format(args.encoder))\n",
    "    encoder = SentenceEncoder(args.encoder,\n",
    "                              max_sentences=args.max_sentences,\n",
    "                              max_tokens=args.max_tokens,\n",
    "                              sort_kind='mergesort' if args.stable else 'quicksort',\n",
    "                              cpu=args.cpu)\n",
    "\n",
    "    with tempfile.TemporaryDirectory() as tmpdir:\n",
    "        ifname = ''  # stdin will be used\n",
    "        if args.token_lang != '--':\n",
    "            tok_fname = os.path.join(tmpdir, 'tok')\n",
    "            Token(ifname,\n",
    "                  tok_fname,\n",
    "                  lang=args.token_lang,\n",
    "                  romanize=True if args.token_lang == 'el' else False,\n",
    "                  lower_case=True, gzip=False,\n",
    "                  verbose=args.verbose, over_write=False)\n",
    "            ifname = tok_fname\n",
    "\n",
    "        if args.bpe_codes:\n",
    "            bpe_fname = os.path.join(tmpdir, 'bpe')\n",
    "            BPEfastApply(ifname,\n",
    "                         bpe_fname,\n",
    "                         args.bpe_codes,\n",
    "                         verbose=args.verbose, over_write=False)\n",
    "            ifname = bpe_fname\n",
    "\n",
    "        EncodeFile(encoder,\n",
    "                   ifname,\n",
    "                   args.output,\n",
    "                   verbose=args.verbose, over_write=False,\n",
    "                   buffer_size=args.buffer_size)"
   ]
  },
  {
   "cell_type": "code",
   "execution_count": 49,
   "metadata": {},
   "outputs": [],
   "source": [
    "\n"
   ]
  },
  {
   "cell_type": "code",
   "execution_count": 59,
   "metadata": {},
   "outputs": [
    {
     "data": {
      "text/plain": [
       "'one of the main sources of wind information is reanalysis data on wind speed at the height of 10 m above the surface which can be used without previous correction for wave calculation not in all sea areas'"
      ]
     },
     "execution_count": 59,
     "metadata": {},
     "output_type": "execute_result"
    }
   ],
   "source": [
    "TokenLine(\"One of the main sources of wind information is \\\n",
    "reanalysis data on wind speed at the height of 10 m above the surface which can be used without previous correction for wave calculation not in all sea areas\",lang='ru')\n"
   ]
  },
  {
   "cell_type": "code",
   "execution_count": 63,
   "metadata": {},
   "outputs": [
    {
     "data": {
      "text/plain": [
       "['R@@ o@@ ast@@ ed bar@@ ram@@ un@@ di fish']"
      ]
     },
     "execution_count": 63,
     "metadata": {},
     "output_type": "execute_result"
    }
   ],
   "source": [
    "import fastBPE\n",
    "bpe = fastBPE.fastBPE(model_dir + \"/93langs.fcodes\", model_dir + \"/93langs.fvocab\")\n",
    "bpe.apply([\"Roasted barramundi fish\"])"
   ]
  },
  {
   "cell_type": "code",
   "execution_count": 33,
   "metadata": {},
   "outputs": [
    {
     "data": {
      "text/plain": [
       "(1, 1024)"
      ]
     },
     "execution_count": 33,
     "metadata": {},
     "output_type": "execute_result"
    }
   ],
   "source": [
    "v.shape"
   ]
  },
  {
   "cell_type": "code",
   "execution_count": 2,
   "metadata": {},
   "outputs": [],
   "source": [
    "cmodel = CompatModel()"
   ]
  },
  {
   "cell_type": "code",
   "execution_count": 3,
   "metadata": {},
   "outputs": [
    {
     "name": "stdout",
     "output_type": "stream",
     "text": [
      "valid_loss =  0.7109176944463681\n",
      "ROC =  0.613192138671875\n",
      "valid_loss =  0.7109054235311655\n",
      "ROC =  0.637225341796875\n",
      "valid_loss =  0.7103322285872239\n",
      "ROC =  0.633341064453125\n",
      "valid_loss =  0.7013366757295071\n",
      "ROC =  0.624844970703125\n",
      "valid_loss =  0.6911636759073306\n",
      "ROC =  0.647908935546875\n",
      "valid_loss =  0.6822013258934021\n",
      "ROC =  0.6451550292968751\n",
      "valid_loss =  0.6814975814941602\n",
      "ROC =  0.6448291015625001\n",
      "valid_loss =  0.6640346386493781\n",
      "ROC =  0.675462646484375\n",
      "valid_loss =  0.6520214967238598\n",
      "ROC =  0.697537841796875\n",
      "valid_loss =  0.6437425399437929\n",
      "ROC =  0.7206384277343749\n",
      "valid_loss =  0.6363430176025782\n",
      "ROC =  0.720714111328125\n",
      "valid_loss =  0.6254607072243323\n",
      "ROC =  0.73448486328125\n",
      "valid_loss =  0.6269760926564535\n",
      "ROC =  0.7404699707031249\n",
      "valid_loss =  0.6154594008739178\n",
      "ROC =  0.7442346191406249\n",
      "valid_loss =  0.6037875383328168\n",
      "ROC =  0.758372802734375\n",
      "valid_loss =  0.6050020204140589\n",
      "ROC =  0.764007568359375\n",
      "valid_loss =  0.5980190367270739\n",
      "ROC =  0.772974853515625\n",
      "valid_loss =  0.5933654507001241\n",
      "ROC =  0.779417724609375\n",
      "valid_loss =  0.58469696304737\n",
      "ROC =  0.791614990234375\n"
     ]
    }
   ],
   "source": [
    "cmodel.train(max_epochs=20, reset_params = True, save_params = True)"
   ]
  },
  {
   "cell_type": "code",
   "execution_count": null,
   "metadata": {},
   "outputs": [],
   "source": []
  },
  {
   "cell_type": "code",
   "execution_count": 13,
   "metadata": {},
   "outputs": [],
   "source": []
  },
  {
   "cell_type": "code",
   "execution_count": 9,
   "metadata": {},
   "outputs": [
    {
     "ename": "NameError",
     "evalue": "name 'args' is not defined",
     "output_type": "error",
     "traceback": [
      "\u001b[0;31m---------------------------------------------------------------------------\u001b[0m",
      "\u001b[0;31mNameError\u001b[0m                                 Traceback (most recent call last)",
      "\u001b[0;32m<ipython-input-9-22480886ed51>\u001b[0m in \u001b[0;36m<module>\u001b[0;34m\u001b[0m\n\u001b[0;32m----> 1\u001b[0;31m \u001b[0mtype\u001b[0m\u001b[0;34m(\u001b[0m\u001b[0margs\u001b[0m\u001b[0;34m)\u001b[0m\u001b[0;34m\u001b[0m\u001b[0;34m\u001b[0m\u001b[0m\n\u001b[0m",
      "\u001b[0;31mNameError\u001b[0m: name 'args' is not defined"
     ]
    }
   ],
   "source": []
  },
  {
   "cell_type": "code",
   "execution_count": null,
   "metadata": {},
   "outputs": [],
   "source": []
  },
  {
   "cell_type": "code",
   "execution_count": null,
   "metadata": {},
   "outputs": [],
   "source": []
  },
  {
   "cell_type": "code",
   "execution_count": 3,
   "metadata": {},
   "outputs": [
    {
     "data": {
      "text/plain": [
       "{'7102202067': 0.998536817719759}"
      ]
     },
     "execution_count": 3,
     "metadata": {},
     "output_type": "execute_result"
    }
   ],
   "source": [
    "s = cmodel.single_score('10138903600', '7102202067')\n",
    "s"
   ]
  },
  {
   "cell_type": "code",
   "execution_count": 4,
   "metadata": {},
   "outputs": [
    {
     "data": {
      "text/plain": [
       "{'10138903600': 100.0,\n",
       " '55638566600': 99.99810171175656,\n",
       " '55279054600': 99.97324931364682,\n",
       " '56786527400': 99.96794403709333,\n",
       " '56786198900': 99.96794403709333,\n",
       " '57192821120': 99.95936993333618,\n",
       " '56962787200': 99.95936993333618,\n",
       " '56897111200': 99.95936993333618,\n",
       " '57211589617': 99.9578776962233,\n",
       " '57188743429': 99.95553803947598,\n",
       " '57192806080': 99.95370259422567,\n",
       " '56926332000': 99.95370259422567,\n",
       " '57192378229': 99.95370259422567,\n",
       " '57200535564': 99.9530521556987,\n",
       " '57200531817': 99.9530521556987,\n",
       " '57190231348': 99.95264082001566,\n",
       " '57190230531': 99.95264082001566,\n",
       " '57202709858': 99.952594766791,\n",
       " '56780131100': 99.95195579072326,\n",
       " '57207458742': 99.94794573084651,\n",
       " '56218089100': 99.94792496336366,\n",
       " '7004647987': 99.94725472234943,\n",
       " '57193292966': 99.94551834472254,\n",
       " '57211589572': 99.94551834472254,\n",
       " '57192818747': 99.94505622586505,\n",
       " '7006010423': 99.94478694510643,\n",
       " '57207954042': 99.94452273529232,\n",
       " '57204526051': 99.94378246385448,\n",
       " '57198352109': 99.94378246385448,\n",
       " '6602569618': 99.94133934762175,\n",
       " '55382360400': 99.94017054486066,\n",
       " '57192481929': 99.93924416677567,\n",
       " '57162850300': 99.93813702507185,\n",
       " '57195530829': 99.93769860286368,\n",
       " '36522457300': 99.93759977663285,\n",
       " '56088330100': 99.93754812679784,\n",
       " '57209274913': 99.93690952164872,\n",
       " '57209270263': 99.93690952164872,\n",
       " '57207454909': 99.93616456463748,\n",
       " '57207450846': 99.93396441250117,\n",
       " '6603093115': 99.93373521390167,\n",
       " '56084445400': 99.93373521390167,\n",
       " '36190169700': 99.93373521390167,\n",
       " '7004431916': 99.93284663419611,\n",
       " '6603119762': 99.93284663419611,\n",
       " '57190229663': 99.93217222896777,\n",
       " '57190230483': 99.93184146150175,\n",
       " '57207455795': 99.9316313907014,\n",
       " '57200531471': 99.9314326418639,\n",
       " '57155292900': 99.93119305405203,\n",
       " '57188747565': 99.93101906542998,\n",
       " '35320457100': 99.93089817716807,\n",
       " '55587983100': 99.92897443844781,\n",
       " '57202714028': 99.92895972029908,\n",
       " '57202711105': 99.92895972029908,\n",
       " '50061625300': 99.92711632509831,\n",
       " '56451092600': 99.92711632509831,\n",
       " '57197825234': 99.92711632509831,\n",
       " '56451077900': 99.92711632509831,\n",
       " '57197826865': 99.92711632509831,\n",
       " '56085003300': 99.922656937728,\n",
       " '56217386400': 99.92189131334726,\n",
       " '57200216432': 99.92156908923201,\n",
       " '57192377352': 99.92076536193997,\n",
       " '57202680916': 99.92063442609904,\n",
       " '57200526931': 99.9196343042558,\n",
       " '55844786900': 99.91936667249955,\n",
       " '57190227336': 99.91599498541635,\n",
       " '57201681165': 99.91568464829734,\n",
       " '57211589268': 99.91504834870668,\n",
       " '55382658400': 99.91439552749978,\n",
       " '57207452317': 99.91430769118672,\n",
       " '56406522400': 99.91422792888575,\n",
       " '57188737492': 99.91385730179019,\n",
       " '56740600200': 99.91383805677798,\n",
       " '57202692379': 99.91381145659723,\n",
       " '41661860300': 99.91351569043029,\n",
       " '57200733249': 99.912723712489,\n",
       " '57209270709': 99.91230743645507,\n",
       " '57207459391': 99.91206056241299,\n",
       " '55667560500': 99.91198602232986,\n",
       " '56644935700': 99.91047101166879,\n",
       " '56204268400': 99.90981551205896,\n",
       " '7201565128': 99.90981551205896,\n",
       " '55247072700': 99.90981551205896,\n",
       " '55316965600': 99.90981551205896,\n",
       " '7102642341': 99.90981551205896,\n",
       " '55346107800': 99.90981551205896,\n",
       " '14008386700': 99.90981551205896,\n",
       " '57210556445': 99.90981551205896,\n",
       " '56316768900': 99.90981551205896,\n",
       " '57189293745': 99.90906814987977,\n",
       " '57205408722': 99.90906814987977,\n",
       " '56992702500': 99.90906814987977,\n",
       " '56786079600': 99.90799002601116,\n",
       " '57211589432': 99.9073688004494,\n",
       " '57035333400': 99.9063358800777,\n",
       " '6505914990': 99.90616059834845,\n",
       " '56086498600': 99.90398332872242,\n",
       " '57209694045': 99.9028644349739,\n",
       " '8964903300': 99.90230289300345,\n",
       " '57197750604': 99.90119448820833,\n",
       " '57210416999': 99.90068080289454,\n",
       " '57195350699': 99.89981754973996,\n",
       " '57211589408': 99.89935048621066,\n",
       " '56218218400': 99.89904697283426,\n",
       " '56217679300': 99.89786074801914,\n",
       " '57192809668': 99.89753897501473,\n",
       " '57211589314': 99.89719171578658,\n",
       " '57205728008': 99.89719171578658,\n",
       " '22981610200': 99.89719171578658,\n",
       " '56780294900': 99.89716966812148,\n",
       " '57197019872': 99.89670675621026,\n",
       " '56786537800': 99.89667346021727,\n",
       " '31767480200': 99.89595305372173,\n",
       " '56218305500': 99.89589107117534,\n",
       " '57213275258': 99.89470792790418,\n",
       " '57205104761': 99.89470792790418,\n",
       " '57207458498': 99.89462841760835,\n",
       " '57207450995': 99.89462841760835,\n",
       " '56451045500': 99.89455368873148,\n",
       " '57195327257': 99.89369679710582,\n",
       " '57207981250': 99.89369679710582,\n",
       " '57190969322': 99.89248964905526,\n",
       " '57193610811': 99.89239273150102,\n",
       " '6603914657': 99.89239273150102,\n",
       " '57205662624': 99.89239273150102,\n",
       " '57205662065': 99.89239273150102,\n",
       " '55349362100': 99.89172052294202,\n",
       " '55884549600': 99.89169664139,\n",
       " '57195536175': 99.89169664139,\n",
       " '57195531750': 99.89169664139,\n",
       " '56732974500': 99.89131335593726,\n",
       " '57202682826': 99.89129927107734,\n",
       " '56309862100': 99.89061045544993,\n",
       " '57200530248': 99.89007184266303,\n",
       " '57194379321': 99.8896143632524,\n",
       " '56406195200': 99.88944638829823,\n",
       " '6603474810': 99.88925921090345,\n",
       " '57211589468': 99.8891898238784,\n",
       " '55326019500': 99.88870431244617,\n",
       " '57212792049': 99.88827554126868,\n",
       " '56660537000': 99.88827554126868,\n",
       " '57192819264': 99.88777577991479,\n",
       " '6602299998': 99.88734962491998,\n",
       " '57188744533': 99.88732598975176,\n",
       " '57200520709': 99.88692689450144,\n",
       " '57211589377': 99.88649200375792,\n",
       " '57211589427': 99.88649200375792,\n",
       " '57205748805': 99.88612314460954,\n",
       " '57209273434': 99.88610467172853,\n",
       " '57188737060': 99.88556427507021,\n",
       " '56217925700': 99.88534595803613,\n",
       " '12041796000': 99.88440337634957,\n",
       " '57189999610': 99.88297338208594,\n",
       " '57196393937': 99.88297338208594,\n",
       " '56779715800': 99.88252140122187,\n",
       " '57191417257': 99.8808641005352,\n",
       " '57207989942': 99.8802215622504,\n",
       " '57209274711': 99.87993514839974,\n",
       " '57209458018': 99.87870421164588,\n",
       " '57211589589': 99.87759222438683,\n",
       " '57197749625': 99.87721386816118,\n",
       " '57196910400': 99.8760793533493,\n",
       " '57204928071': 99.87607387490462,\n",
       " '26031082900': 99.87607387490462,\n",
       " '57195347448': 99.87598155746599,\n",
       " '57190225059': 99.87533793011991,\n",
       " '57211589399': 99.87335119960107,\n",
       " '57195347975': 99.87318794800464,\n",
       " '57014741500': 99.87248624219124,\n",
       " '57206773184': 99.87224054414874,\n",
       " '56780445600': 99.86984754136434,\n",
       " '57211535770': 99.86786220292913,\n",
       " '57200213601': 99.86749634443663,\n",
       " '55382199400': 99.86749634443663,\n",
       " '56955559700': 99.86749634443663,\n",
       " '56218197100': 99.8648616126845,\n",
       " '57192819308': 99.8648616126845,\n",
       " '57188740055': 99.8648616126845,\n",
       " '57189887252': 99.8648616126845,\n",
       " '25927813600': 99.86386923603867,\n",
       " '55669900400': 99.86386923603867,\n",
       " '25927813300': 99.86386923603867,\n",
       " '25928035700': 99.86386923603867,\n",
       " '57207456095': 99.8623815662389,\n",
       " '57207457492': 99.8623815662389,\n",
       " '6506439053': 99.86149613588178,\n",
       " '57192821239': 99.86117009472754,\n",
       " '57109990000': 99.86117009472754,\n",
       " '57209451139': 99.86080959257674,\n",
       " '7004144504': 99.86052234904861,\n",
       " '56978160800': 99.85953074128982,\n",
       " '57202586742': 99.85926551060795,\n",
       " '55062303000': 99.85810444649327,\n",
       " '57110361800': 99.85752563560492,\n",
       " '57211589625': 99.8573144263659,\n",
       " '57095911800': 99.85503254518606,\n",
       " '6505934487': 99.85368177197589,\n",
       " '7102202067': 99.85368177197589,\n",
       " '57203337864': 99.85368177197589,\n",
       " '35514642000': 99.85368177197589,\n",
       " '56234112800': 99.85368177197589,\n",
       " '23995917600': 99.85368177197589,\n",
       " '6603057044': 99.85368177197589,\n",
       " '6603002658': 99.85368177197589,\n",
       " '57170900800': 99.85303241344357,\n",
       " '56644512400': 99.85293455846207,\n",
       " '56002726000': 99.85149732794916,\n",
       " '56541470400': 99.8484807350688,\n",
       " '57202687264': 99.84847878212071,\n",
       " '56218377500': 99.84816513544517,\n",
       " '56524584500': 99.84793999828996,\n",
       " '57195532857': 99.84387862773714,\n",
       " '57192820292': 99.84293761760132,\n",
       " '57192383632': 99.84197717021443,\n",
       " '56217820300': 99.83995145599344,\n",
       " '57207454636': 99.83682839833203,\n",
       " '56741541000': 99.83589487945976,\n",
       " '57195344550': 99.8339219000844,\n",
       " '36458108000': 99.82182159420819,\n",
       " '57211589421': 99.82090550433978,\n",
       " '57211589291': 99.82090550433978,\n",
       " '57207451668': 99.81790193484585,\n",
       " '57188746259': 99.81462964619183,\n",
       " '57202684714': 99.81073517579995,\n",
       " '57207453091': 99.81058466205927,\n",
       " '57189089578': 99.80912997355955,\n",
       " '57207472724': 99.80868619275964,\n",
       " '57191250945': 99.80851453171684,\n",
       " '57196401479': 99.80807225864501,\n",
       " '57207455101': 99.80745673995042,\n",
       " '57207455603': 99.80745673995042,\n",
       " '57211589523': 99.80555072305665,\n",
       " '7003500682': 99.8052888476239,\n",
       " '36901958800': 99.8052888476239,\n",
       " '7004676843': 99.8052888476239,\n",
       " '6505567360': 99.8052888476239,\n",
       " '23096002400': 99.8052888476239,\n",
       " '7007137159': 99.8052888476239,\n",
       " '42762051600': 99.80456452036938,\n",
       " '41661061400': 99.80415824636665,\n",
       " '55781838800': 99.80341272289446,\n",
       " '56218447300': 99.80226610351794,\n",
       " '25927301900': 99.80089783515373,\n",
       " '7004378221': 99.80089783515373,\n",
       " '57196022654': 99.80089783515373,\n",
       " '6507634452': 99.80073828305522,\n",
       " '57192819439': 99.7993638536158,\n",
       " '57209397958': 99.79904960163925,\n",
       " '57189690946': 99.79797701098924,\n",
       " '57188739258': 99.79713458218886,\n",
       " '56217903300': 99.7953116607414,\n",
       " '55382268900': 99.79287256239428,\n",
       " '56217994100': 99.79159575759562,\n",
       " '57188738538': 99.79000267155723,\n",
       " '57195350181': 99.78926809685183,\n",
       " '7101629404': 99.7776804422356,\n",
       " '56214344100': 99.77072211254891,\n",
       " '57210947239': 99.76875352798533,\n",
       " '36968163000': 99.76875352798533,\n",
       " '57210943037': 99.76875352798533,\n",
       " '57110136500': 99.76875352798533,\n",
       " '8385944600': 99.7684709240888,\n",
       " '57204250277': 99.75642284561725,\n",
       " '57190224801': 99.7527883724249,\n",
       " '57188736825': 99.7512005916021,\n",
       " '57195350597': 99.74792247263608,\n",
       " '57192820611': 99.71543376795844,\n",
       " '57202705904': 99.70326099200248,\n",
       " '57200079570': 99.69317255879643,\n",
       " '57200084291': 99.69317255879643,\n",
       " '56457387600': 99.69317255879643}"
      ]
     },
     "execution_count": 4,
     "metadata": {},
     "output_type": "execute_result"
    }
   ],
   "source": [
    "cmodel.all_scores('10138903600')"
   ]
  },
  {
   "cell_type": "code",
   "execution_count": null,
   "metadata": {},
   "outputs": [],
   "source": []
  }
 ],
 "metadata": {
  "kernelspec": {
   "display_name": "Python [conda env:pytorch]",
   "language": "python",
   "name": "conda-env-pytorch-py"
  },
  "language_info": {
   "codemirror_mode": {
    "name": "ipython",
    "version": 3
   },
   "file_extension": ".py",
   "mimetype": "text/x-python",
   "name": "python",
   "nbconvert_exporter": "python",
   "pygments_lexer": "ipython3",
   "version": "3.7.4"
  }
 },
 "nbformat": 4,
 "nbformat_minor": 2
}
